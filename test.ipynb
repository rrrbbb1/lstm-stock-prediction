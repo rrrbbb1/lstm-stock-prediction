{
 "cells": [
  {
   "cell_type": "code",
   "execution_count": 1,
   "metadata": {},
   "outputs": [],
   "source": [
    "import pandas as pd\n",
    "import matplotlib.pyplot as plt\n",
    "import torch\n",
    "import torch.nn as nn\n",
    "import numpy as np\n",
    "import seaborn  as sns\n",
    "from tqdm import tqdm"
   ]
  },
  {
   "cell_type": "code",
   "execution_count": 2,
   "metadata": {},
   "outputs": [],
   "source": [
    "# Load and preprocess `news`\n",
    "news = pd.read_csv('data/bis_press_releases.csv')\n",
    "news = news.dropna()\n",
    "news['date'] = pd.to_datetime(news['date'], format='%d %b %Y')"
   ]
  },
  {
   "cell_type": "code",
   "execution_count": 3,
   "metadata": {},
   "outputs": [],
   "source": [
    "# Load and preprocess `df`\n",
    "df = pd.read_csv('data/sp500_prices.csv')\n",
    "df['date'] = pd.to_datetime(df['Date'])\n",
    "df = df.drop(columns=['Date'])\n",
    "companies = df['Company'].unique().tolist()\n",
    "dates = df['date'].drop_duplicates().values"
   ]
  },
  {
   "cell_type": "code",
   "execution_count": 7,
   "metadata": {},
   "outputs": [
    {
     "name": "stderr",
     "output_type": "stream",
     "text": [
      "/Users/remibreton/miniconda3/envs/my_env/lib/python3.9/site-packages/tqdm/auto.py:21: TqdmWarning: IProgress not found. Please update jupyter and ipywidgets. See https://ipywidgets.readthedocs.io/en/stable/user_install.html\n",
      "  from .autonotebook import tqdm as notebook_tqdm\n"
     ]
    },
    {
     "name": "stdout",
     "output_type": "stream",
     "text": [
      "Predicted class: negative\n",
      "Probabilities: tensor([[0.2091, 0.7053, 0.0855]])\n",
      "labels assignation: {'positive': 0, 'negative': 1, 'neutral': 2}\n"
     ]
    }
   ],
   "source": [
    "from transformers import AutoTokenizer, AutoModelForSequenceClassification\n",
    "import torch\n",
    "\n",
    "# Load the tokenizer and model\n",
    "tokenizer = AutoTokenizer.from_pretrained(\"ProsusAI/finbert\")\n",
    "model = AutoModelForSequenceClassification.from_pretrained(\"ProsusAI/finbert\")\n",
    "class_labels = model.config.id2label\n",
    "prob_labels = model.config.label2id\n",
    "\n",
    "text1 = news['content'].values[0]\n",
    "inputs = tokenizer(text1, return_tensors=\"pt\", truncation=True, padding=True)\n",
    "\n",
    "# Perform inference\n",
    "with torch.no_grad():  # No gradient calculation needed for predictions\n",
    "    outputs = model(**inputs)\n",
    "probs = torch.nn.functional.softmax(outputs.logits, dim=-1)\n",
    "predicted_class = torch.argmax(probs, dim=-1).item()\n",
    "\n",
    "# Print the results\n",
    "print(\"Predicted class:\", class_labels[predicted_class])\n",
    "print(\"Probabilities:\", probs)\n",
    "print('labels assignation:', prob_labels)"
   ]
  },
  {
   "cell_type": "code",
   "execution_count": 8,
   "metadata": {},
   "outputs": [],
   "source": [
    "def sentiment_labelling(df):\n",
    "    \"\"\"\n",
    "    Perform sentiment labelling on the given DataFrame.\n",
    "    Adds 'negative', 'neutral', and 'positive' columns to the DataFrame.\n",
    "    Processes the DataFrame to group by date and fill missing values.\n",
    "    \"\"\"\n",
    "    # Initialize sentiment columns\n",
    "    df['negative'] = 0.0\n",
    "    df['neutral'] = 0.0\n",
    "    df['positive'] = 0.0\n",
    "\n",
    "    # Initialize the tqdm progress bar\n",
    "    for index, row in tqdm(df.iterrows(), total=len(df), desc=\"Processing Sentiment Analysis\", dynamic_ncols=True):\n",
    "        text = row['content']\n",
    "\n",
    "        # Tokenize the text\n",
    "        inputs = tokenizer(text, return_tensors=\"pt\", truncation=True, padding=True)\n",
    "\n",
    "        # Perform inference\n",
    "        with torch.no_grad():\n",
    "            outputs = model(**inputs)\n",
    "\n",
    "        # Get predicted probabilities (softmax output)\n",
    "        probs = torch.nn.functional.softmax(outputs.logits, dim=-1).squeeze().tolist()\n",
    "\n",
    "        # Assign probabilities to the corresponding columns\n",
    "        df.at[index, 'positive'] = probs[0]\n",
    "        df.at[index, 'negative'] = probs[1]\n",
    "        df.at[index, 'neutral'] = probs[2]\n",
    "\n",
    "    # Drop unnecessary columns\n",
    "    if {'url', 'title', 'content'}.issubset(df.columns):\n",
    "        df = df.drop(columns=['url', 'title', 'content'])\n",
    "\n",
    "    # Group by date and calculate mean sentiment scores\n",
    "    df = df.groupby(\"date\").mean().reset_index()\n",
    "\n",
    "    # Ensure the 'date' column is in datetime format\n",
    "    df['date'] = pd.to_datetime(df['date'])\n",
    "\n",
    "    # Create a full date range\n",
    "    date_range = pd.date_range(start=df[\"date\"].min(), end=df[\"date\"].max())\n",
    "\n",
    "    # Reindex to include all dates and forward-fill missing values\n",
    "    df = df.set_index(\"date\").reindex(date_range)\n",
    "    df = df.ffill().reset_index()\n",
    "    df.rename(columns={\"index\": \"date\"}, inplace=True)\n",
    "\n",
    "    # Sort by date in descending order\n",
    "    df = df.sort_values(by=\"date\", ascending=False).reset_index(drop=True)\n",
    "\n",
    "    return df"
   ]
  },
  {
   "cell_type": "code",
   "execution_count": 9,
   "metadata": {},
   "outputs": [
    {
     "name": "stderr",
     "output_type": "stream",
     "text": [
      "Processing Sentiment Analysis: 100%|██████████| 300/300 [00:42<00:00,  7.01it/s]\n"
     ]
    }
   ],
   "source": [
    "news = sentiment_labelling(news)"
   ]
  }
 ],
 "metadata": {
  "kernelspec": {
   "display_name": "my_env",
   "language": "python",
   "name": "python3"
  },
  "language_info": {
   "codemirror_mode": {
    "name": "ipython",
    "version": 3
   },
   "file_extension": ".py",
   "mimetype": "text/x-python",
   "name": "python",
   "nbconvert_exporter": "python",
   "pygments_lexer": "ipython3",
   "version": "3.9.20"
  }
 },
 "nbformat": 4,
 "nbformat_minor": 2
}
