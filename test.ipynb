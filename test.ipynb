{
 "cells": [
  {
   "cell_type": "code",
   "execution_count": 6,
   "metadata": {},
   "outputs": [],
   "source": [
    "import pandas as pd\n",
    "import matplotlib.pyplot as plt\n",
    "import torch\n",
    "import torch.nn as nn\n",
    "import numpy as np\n",
    "import seaborn  as sns"
   ]
  },
  {
   "cell_type": "code",
   "execution_count": 7,
   "metadata": {},
   "outputs": [],
   "source": [
    "df = pd.read_csv('financial_news_all.csv')"
   ]
  },
  {
   "cell_type": "code",
   "execution_count": 8,
   "metadata": {},
   "outputs": [
    {
     "data": {
      "text/html": [
       "<div>\n",
       "<style scoped>\n",
       "    .dataframe tbody tr th:only-of-type {\n",
       "        vertical-align: middle;\n",
       "    }\n",
       "\n",
       "    .dataframe tbody tr th {\n",
       "        vertical-align: top;\n",
       "    }\n",
       "\n",
       "    .dataframe thead th {\n",
       "        text-align: right;\n",
       "    }\n",
       "</style>\n",
       "<table border=\"1\" class=\"dataframe\">\n",
       "  <thead>\n",
       "    <tr style=\"text-align: right;\">\n",
       "      <th></th>\n",
       "      <th>headline_title</th>\n",
       "      <th>date</th>\n",
       "      <th>content</th>\n",
       "    </tr>\n",
       "  </thead>\n",
       "  <tbody>\n",
       "    <tr>\n",
       "      <th>0</th>\n",
       "      <td>Lyte Fiber Chooses GOCare and Dialpad to Trans...</td>\n",
       "      <td>20241211T135500</td>\n",
       "      <td>Digital experience management integrated with ...</td>\n",
       "    </tr>\n",
       "    <tr>\n",
       "      <th>1</th>\n",
       "      <td>New Developer Portal and AI-Driven Tools in Ge...</td>\n",
       "      <td>20241211T135420</td>\n",
       "      <td>LONDON and NEW YORK, Dec. 11, 2024 ( GLOBE NEW...</td>\n",
       "    </tr>\n",
       "    <tr>\n",
       "      <th>2</th>\n",
       "      <td>In-vitro Colorectal Cancer Screening Tests Mar...</td>\n",
       "      <td>20241211T135057</td>\n",
       "      <td>Wilmington, Delaware, Transparency Market Rese...</td>\n",
       "    </tr>\n",
       "    <tr>\n",
       "      <th>3</th>\n",
       "      <td>Macy's Gears Up For Q3 Print; Here Are The Rec...</td>\n",
       "      <td>20241211T135029</td>\n",
       "      <td>Macy's, Inc. M will release its third-quarter ...</td>\n",
       "    </tr>\n",
       "    <tr>\n",
       "      <th>4</th>\n",
       "      <td>Winterberry Group Research Examines Direct Mai...</td>\n",
       "      <td>20241211T134900</td>\n",
       "      <td>NEW YORK, Dec. 11, 2024 ( GLOBE NEWSWIRE ) -- ...</td>\n",
       "    </tr>\n",
       "  </tbody>\n",
       "</table>\n",
       "</div>"
      ],
      "text/plain": [
       "                                      headline_title             date  \\\n",
       "0  Lyte Fiber Chooses GOCare and Dialpad to Trans...  20241211T135500   \n",
       "1  New Developer Portal and AI-Driven Tools in Ge...  20241211T135420   \n",
       "2  In-vitro Colorectal Cancer Screening Tests Mar...  20241211T135057   \n",
       "3  Macy's Gears Up For Q3 Print; Here Are The Rec...  20241211T135029   \n",
       "4  Winterberry Group Research Examines Direct Mai...  20241211T134900   \n",
       "\n",
       "                                             content  \n",
       "0  Digital experience management integrated with ...  \n",
       "1  LONDON and NEW YORK, Dec. 11, 2024 ( GLOBE NEW...  \n",
       "2  Wilmington, Delaware, Transparency Market Rese...  \n",
       "3  Macy's, Inc. M will release its third-quarter ...  \n",
       "4  NEW YORK, Dec. 11, 2024 ( GLOBE NEWSWIRE ) -- ...  "
      ]
     },
     "execution_count": 8,
     "metadata": {},
     "output_type": "execute_result"
    }
   ],
   "source": [
    "df.head()"
   ]
  },
  {
   "cell_type": "code",
   "execution_count": 13,
   "metadata": {},
   "outputs": [
    {
     "data": {
      "text/plain": [
       "'LOS ALTOS, Calif., Dec. 11, 2024 ( GLOBE NEWSWIRE ) -- Four Leaf Acquisition Corporation ( NASDAQ: FORL ) , today announced that on November 21, 2024, it received a notice from The Nasdaq Stock Market LLC ( \"Nasdaq\" ) stating that because the Company has not yet filed its quarterly report on ...'"
      ]
     },
     "execution_count": 13,
     "metadata": {},
     "output_type": "execute_result"
    }
   ],
   "source": [
    "df['content'].values[12]"
   ]
  },
  {
   "cell_type": "code",
   "execution_count": null,
   "metadata": {},
   "outputs": [],
   "source": []
  }
 ],
 "metadata": {
  "kernelspec": {
   "display_name": "my_env",
   "language": "python",
   "name": "python3"
  },
  "language_info": {
   "codemirror_mode": {
    "name": "ipython",
    "version": 3
   },
   "file_extension": ".py",
   "mimetype": "text/x-python",
   "name": "python",
   "nbconvert_exporter": "python",
   "pygments_lexer": "ipython3",
   "version": "3.9.20"
  }
 },
 "nbformat": 4,
 "nbformat_minor": 2
}
